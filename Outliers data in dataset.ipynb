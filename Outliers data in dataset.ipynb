{
 "cells": [
  {
   "cell_type": "markdown",
   "metadata": {},
   "source": [
    "# Identify Outliers\n",
    "Outliers are data point that lies outside the dataset."
   ]
  },
  {
   "cell_type": "markdown",
   "metadata": {},
   "source": [
    "# Criteria to identify the outliers\n",
    "    1.Data point falls outside of 1.5 times of an interquartile range above 3rd quartile and below 1st quartile\n",
    "    2.Data point falls outside of 3 standard deviations. In case of z-score, if z-score falls outside of 2 standard deviation."
   ]
  },
  {
   "cell_type": "markdown",
   "metadata": {},
   "source": [
    "# Reasons for existance of outliers\n",
    "    1. Variability in data\n",
    "    2. error in measurement"
   ]
  },
  {
   "cell_type": "markdown",
   "metadata": {},
   "source": [
    "# Ways to find outliers\n",
    "    1. Using scatter plot\n",
    "    2. Box plot\n",
    "    3. Using z-score\n",
    "    4. Using the IQR (interquarentile range)"
   ]
  },
  {
   "cell_type": "markdown",
   "metadata": {},
   "source": [
    "# 1.Using scatter plot\n",
    "![](dg_scatter_plot.png)"
   ]
  },
  {
   "cell_type": "markdown",
   "metadata": {},
   "source": [
    "# 2.Using box plot\n",
    "![](box_plot.png)"
   ]
  },
  {
   "cell_type": "markdown",
   "metadata": {},
   "source": [
    "# 3.Using z-score\n",
    "    Ref: https://www.math.ubc.ca/~pwalls/math-python/jupyter/latex/\n",
    "    Formula: z-score = (Observation - mean)/standard deviation\n",
    "$$z = \\frac{(X_i - \\mu)}{\\sigma}$$\n"
   ]
  },
  {
   "cell_type": "code",
   "execution_count": 2,
   "metadata": {},
   "outputs": [],
   "source": [
    "import numpy as np"
   ]
  },
  {
   "cell_type": "code",
   "execution_count": 44,
   "metadata": {},
   "outputs": [],
   "source": [
    "np.random.seed(13)\n",
    "dataset = np.random.randint(900,1000,100)\n",
    "dataset = np.append(np.array([1,2,3,6]),dataset)"
   ]
  },
  {
   "cell_type": "markdown",
   "metadata": {},
   "source": [
    "# Finding the Outliers\n",
    "\n"
   ]
  },
  {
   "cell_type": "code",
   "execution_count": 46,
   "metadata": {},
   "outputs": [],
   "source": [
    "outliers = []\n",
    "def find_outliers(data):\n",
    "    threshold = 3\n",
    "    mean = np.mean(data)\n",
    "    std = np.std(data)\n",
    "    \n",
    "    for n in data:\n",
    "        z_score = (n-mean)/std\n",
    "        #print(n,z_score,sep=':')\n",
    "        if np.abs(z_score) > threshold:\n",
    "            outliers.append(n)\n",
    "    return outliers\n",
    "    "
   ]
  },
  {
   "cell_type": "code",
   "execution_count": 47,
   "metadata": {},
   "outputs": [
    {
     "data": {
      "text/plain": [
       "[1, 2, 3, 6]"
      ]
     },
     "execution_count": 47,
     "metadata": {},
     "output_type": "execute_result"
    }
   ],
   "source": [
    "#dataset = np.array([2,25,26,27,28,29,34,35])\n",
    "find_outliers(dataset)"
   ]
  },
  {
   "cell_type": "markdown",
   "metadata": {},
   "source": [
    "# 4. Interquartile range\n",
    "75% - 25% values in dataset\n",
    "Steps involved:\n",
    "    1. Sort the dataset in increasing order.\n",
    "    2. Calculate 1st and 3rd quartile.\n",
    "    3. Find interquartile range: iqr = q3-q1\n",
    "    4. Find lower bound = q1 - (iqr*1.5)\n",
    "    5. Find upper bound = q2 + (iqr*1.5)\n",
    "    \n",
    "    Anything that lies outside the lower and upper bound range is OUTLIER."
   ]
  },
  {
   "cell_type": "code",
   "execution_count": 48,
   "metadata": {},
   "outputs": [
    {
     "data": {
      "text/plain": [
       "[1,\n",
       " 2,\n",
       " 3,\n",
       " 6,\n",
       " 900,\n",
       " 901,\n",
       " 902,\n",
       " 902,\n",
       " 904,\n",
       " 905,\n",
       " 905,\n",
       " 905,\n",
       " 906,\n",
       " 907,\n",
       " 910,\n",
       " 911,\n",
       " 911,\n",
       " 913,\n",
       " 916,\n",
       " 916,\n",
       " 918,\n",
       " 919,\n",
       " 919,\n",
       " 919,\n",
       " 920,\n",
       " 921,\n",
       " 922,\n",
       " 922,\n",
       " 922,\n",
       " 924,\n",
       " 924,\n",
       " 924,\n",
       " 925,\n",
       " 925,\n",
       " 926,\n",
       " 926,\n",
       " 926,\n",
       " 928,\n",
       " 928,\n",
       " 932,\n",
       " 934,\n",
       " 935,\n",
       " 936,\n",
       " 936,\n",
       " 936,\n",
       " 937,\n",
       " 938,\n",
       " 940,\n",
       " 941,\n",
       " 945,\n",
       " 945,\n",
       " 946,\n",
       " 947,\n",
       " 947,\n",
       " 948,\n",
       " 948,\n",
       " 949,\n",
       " 950,\n",
       " 951,\n",
       " 952,\n",
       " 952,\n",
       " 953,\n",
       " 954,\n",
       " 957,\n",
       " 958,\n",
       " 958,\n",
       " 959,\n",
       " 959,\n",
       " 959,\n",
       " 960,\n",
       " 961,\n",
       " 962,\n",
       " 962,\n",
       " 965,\n",
       " 966,\n",
       " 967,\n",
       " 971,\n",
       " 971,\n",
       " 972,\n",
       " 973,\n",
       " 974,\n",
       " 974,\n",
       " 975,\n",
       " 975,\n",
       " 976,\n",
       " 977,\n",
       " 979,\n",
       " 981,\n",
       " 982,\n",
       " 983,\n",
       " 985,\n",
       " 985,\n",
       " 986,\n",
       " 986,\n",
       " 988,\n",
       " 989,\n",
       " 991,\n",
       " 994,\n",
       " 997,\n",
       " 998,\n",
       " 999,\n",
       " 999,\n",
       " 999,\n",
       " 999]"
      ]
     },
     "execution_count": 48,
     "metadata": {},
     "output_type": "execute_result"
    }
   ],
   "source": [
    "#Sorting the dataset\n",
    "sorted(dataset)"
   ]
  },
  {
   "cell_type": "code",
   "execution_count": 57,
   "metadata": {},
   "outputs": [
    {
     "data": {
      "text/plain": [
       "(921.75, 971.25)"
      ]
     },
     "execution_count": 57,
     "metadata": {},
     "output_type": "execute_result"
    }
   ],
   "source": [
    "#Calculate 1st and 3rd quartile\n",
    "q1,q3 = np.percentile(dataset,[25,75])\n",
    "q1,q3"
   ]
  },
  {
   "cell_type": "code",
   "execution_count": 59,
   "metadata": {},
   "outputs": [
    {
     "data": {
      "text/plain": [
       "49.5"
      ]
     },
     "execution_count": 59,
     "metadata": {},
     "output_type": "execute_result"
    }
   ],
   "source": [
    "#Find interquartile range\n",
    "iqr = q3-q1\n",
    "iqr"
   ]
  },
  {
   "cell_type": "code",
   "execution_count": 64,
   "metadata": {},
   "outputs": [
    {
     "data": {
      "text/plain": [
       "(847.5, 1045.5)"
      ]
     },
     "execution_count": 64,
     "metadata": {},
     "output_type": "execute_result"
    }
   ],
   "source": [
    "low_bound_value = q1 - (iqr*1.5)\n",
    "upp_bound_value = q3 + (iqr*1.5)\n",
    "low_bound_value,upp_bound_value\n",
    "# Anything outside the low_bound_value and upp_bound_value range is Outliers."
   ]
  }
 ],
 "metadata": {
  "kernelspec": {
   "display_name": "Python 3",
   "language": "python",
   "name": "python3"
  },
  "language_info": {
   "codemirror_mode": {
    "name": "ipython",
    "version": 3
   },
   "file_extension": ".py",
   "mimetype": "text/x-python",
   "name": "python",
   "nbconvert_exporter": "python",
   "pygments_lexer": "ipython3",
   "version": "3.7.6"
  }
 },
 "nbformat": 4,
 "nbformat_minor": 4
}
